{
 "cells": [
  {
   "cell_type": "code",
   "execution_count": 1,
   "metadata": {
    "collapsed": true,
    "pycharm": {
     "name": "#%%\n"
    }
   },
   "outputs": [],
   "source": [
    "import os\n",
    "import xml.etree.ElementTree as ET"
   ]
  },
  {
   "cell_type": "code",
   "execution_count": 2,
   "outputs": [],
   "source": [
    "path = \"gpx_files_before/\"\n",
    "name_space = \"http://www.topografix.com/GPX/1/1\"\n",
    "name_space_prefix = \"{http://www.topografix.com/GPX/1/1}\"\n",
    "ET.register_namespace(\"\", name_space)\n",
    "\n",
    "file_list = os.listdir(path)"
   ],
   "metadata": {
    "collapsed": false,
    "pycharm": {
     "name": "#%%\n"
    }
   }
  },
  {
   "cell_type": "code",
   "execution_count": 17,
   "outputs": [
    {
     "name": "stdout",
     "output_type": "stream",
     "text": [
      "Yes\n",
      "11.16_오전_merge.gpx\n",
      "11.16_오후_merge.gpx\n",
      "11.17_1_merge.gpx\n",
      "11.17_2_merge.gpx\n",
      "11.17_3_merge.gpx\n",
      "11.18_1_merge.gpx\n",
      "11.18_2_merge.gpx\n",
      "11.19_1_merge.gpx\n",
      "11.19_2_merge.gpx\n",
      "11.20_1_merge.gpx\n",
      "11.20_2_merge.gpx\n",
      "11.21_1_merge.gpx\n",
      "11.21_2_merge.gpx\n",
      "11.22_merge.gpx\n"
     ]
    }
   ],
   "source": [
    "result_xml = None\n",
    "trk_list = []\n",
    "for file in file_list:\n",
    "    # print(file)\n",
    "    tree = ET.parse(path + file)\n",
    "    roots = tree.getroot()\n",
    "    if result_xml is None :\n",
    "        print(\"Yes\")\n",
    "        result_xml = roots\n",
    "        # local_trk_list = result_xml.findall(name_space_prefix + \"trk\")\n",
    "        child_list = result_xml.getchildren()\n",
    "        for child in child_list:\n",
    "            if child.tag == name_space_prefix + \"trk\":\n",
    "                name_list = child.findall(name_space_prefix + \"name\")\n",
    "                for trk_name in name_list:\n",
    "                    trk_name.text = trk_name.text[:-4] + \"_merge\" + \".gpx\"\n",
    "                    print(trk_name.text)\n",
    "            result_xml.remove(child)\n",
    "    else:\n",
    "        local_trk_list = roots.findall(name_space_prefix + \"trk\")\n",
    "        for trk in local_trk_list:\n",
    "            trk_name_list = trk.findall(name_space_prefix + \"name\")\n",
    "            for trk_name in trk_name_list:\n",
    "                trk_name.text = trk_name.text[:-4] + \"_merge\" + \".gpx\"\n",
    "                print(trk_name.text)\n",
    "        trk_list.extend(local_trk_list)\n",
    "\n",
    "child_list = child_list[:2] + trk_list + child_list[2:]\n",
    "result_xml.extend(child_list)\n",
    "\n",
    "result_tree = ET.ElementTree(result_xml)\n",
    "result_tree.write(\"merged_file.gpx\",\n",
    "                  xml_declaration=True,\n",
    "                  encoding='UTF-8',\n",
    "                  method=\"xml\"\n",
    "                  )\n",
    "\n",
    "# f = open(\"test.txt\", \"w\")\n",
    "# print(ET.tostring(result_xml), file = f)\n",
    "# f.close()"
   ],
   "metadata": {
    "collapsed": false,
    "pycharm": {
     "name": "#%%\n"
    }
   }
  },
  {
   "cell_type": "code",
   "execution_count": null,
   "outputs": [],
   "source": [
    "aaa = result_xml.findall(name_space_prefix + \"trk\")\n",
    "for trk in aaa:\n",
    "    trk_name = trk.find(name_space_prefix + \"name\")\n",
    "    print(trk_name.text)"
   ],
   "metadata": {
    "collapsed": false,
    "pycharm": {
     "name": "#%%\n"
    }
   }
  },
  {
   "cell_type": "code",
   "execution_count": null,
   "outputs": [],
   "source": [
    "\n",
    "trkseg_list = trk.findall(name_space + \"trkseg\")\n",
    "coor_list = []\n",
    "ele = 0\n",
    "for trkseg in trkseg_list:\n",
    "    for trkpt in trkseg.findall(name_space + \"trkpt\"):\n",
    "        lat = trkpt.get(\"lat\")\n",
    "        lon = trkpt.get(\"lon\")\n",
    "        time = trkpt.find(name_space + \"time\").text\n",
    "        # print(trkpt.find(name_space + \"ele\"))\n",
    "        if trkpt.find(name_space + \"ele\") is not None:\n",
    "            ele = trkpt.find(name_space + \"ele\").text\n",
    "        coor_list.append((time, lat, lon, ele))\n"
   ],
   "metadata": {
    "collapsed": false,
    "pycharm": {
     "name": "#%%\n"
    }
   }
  }
 ],
 "metadata": {
  "kernelspec": {
   "name": "machine_learning",
   "language": "python",
   "display_name": "python3_ml"
  },
  "language_info": {
   "codemirror_mode": {
    "name": "ipython",
    "version": 2
   },
   "file_extension": ".py",
   "mimetype": "text/x-python",
   "name": "python",
   "nbconvert_exporter": "python",
   "pygments_lexer": "ipython2",
   "version": "2.7.6"
  }
 },
 "nbformat": 4,
 "nbformat_minor": 0
}