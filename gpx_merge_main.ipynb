{
 "cells": [
  {
   "cell_type": "code",
   "execution_count": 2,
   "metadata": {
    "collapsed": true,
    "pycharm": {
     "name": "#%%\n"
    }
   },
   "outputs": [
    {
     "name": "stdout",
     "output_type": "stream",
     "text": [
      "11.17_1_merge.gpx\n",
      "11.17_2_merge.gpx\n",
      "11.17_3_merge.gpx\n",
      "11.18_1_merge.gpx\n",
      "11.18_2_merge.gpx\n",
      "11.19_1_merge.gpx\n",
      "11.19_2_merge.gpx\n",
      "11.20_1_merge.gpx\n",
      "11.20_2_merge.gpx\n",
      "11.21_1_merge.gpx\n",
      "11.21_2_merge.gpx\n",
      "11.22_merge.gpx\n"
     ]
    }
   ],
   "source": [
    "import os\n",
    "import xml.etree.ElementTree as ET\n",
    "\n",
    "\n",
    "class GPXManager:\n",
    "    def __init__(self, in_path, out_path, out_file_name = \"merged_file.gpx\", name_space = \"http://www.topografix.com/GPX/1/1\"):\n",
    "        self.input_path = in_path\n",
    "        self.output_path = out_path\n",
    "        self.output_file_name = out_file_name\n",
    "        self.file_list = os.listdir(input_path)\n",
    "        self.name_space = name_space\n",
    "        self.name_space_prefix = \"{\" + name_space + \"}\"\n",
    "        ET.register_namespace(\"\", name_space)\n",
    "\n",
    "    def get_merged_gpx(self):\n",
    "        self.result_xml = None\n",
    "        child_list = None\n",
    "        trk_list = []\n",
    "        for file in self.file_list:\n",
    "            tree = ET.parse(self.input_path + file)\n",
    "            roots = tree.getroot()\n",
    "            if self.result_xml is None :\n",
    "                self.result_xml = roots\n",
    "                child_list = self.result_xml.getchildren()\n",
    "                for child in child_list:\n",
    "                    if child.tag == self.name_space_prefix + \"trk\":\n",
    "                        name_list = child.findall(self.name_space_prefix + \"name\")\n",
    "                        for trk_name in name_list:\n",
    "                            trk_name.text = trk_name.text[:-4] + \"_merge\" + \".gpx\"\n",
    "                    self.result_xml.remove(child)\n",
    "            else:\n",
    "                if child_list is None: raise Exception(\"No result XML structure\")\n",
    "                local_trk_list = roots.findall(self.name_space_prefix + \"trk\")\n",
    "                for trk in local_trk_list:\n",
    "                    trk_name_list = trk.findall(self.name_space_prefix + \"name\")\n",
    "                    for trk_name in trk_name_list:\n",
    "                        trk_name.text = trk_name.text[:-4] + \"_merge\" + \".gpx\"\n",
    "                        print(trk_name.text)\n",
    "                trk_list.extend(local_trk_list)\n",
    "        child_list = child_list[:2] + trk_list + child_list[2:]\n",
    "        self.result_xml.extend(child_list)\n",
    "        self.export_gpx_file()\n",
    "\n",
    "    def export_gpx_file(self):\n",
    "        self.result_tree = ET.ElementTree(self.result_xml)\n",
    "        self.result_tree.write(self.output_path + self.output_file_name,\n",
    "                          xml_declaration=True,\n",
    "                          encoding='UTF-8',\n",
    "                          method=\"xml\"\n",
    "                          )\n",
    "\n",
    "\n",
    "input_path = \"./gpx_files_before/\"\n",
    "output_path = \"./\"\n",
    "output_file_name = \"merged_file.gpx\"\n",
    "gpx_merge = GPXManager(input_path, output_path, output_file_name)\n",
    "gpx_merge.get_merged_gpx()"
   ]
  },
  {
   "cell_type": "code",
   "execution_count": null,
   "outputs": [],
   "source": [
    "# get data\n",
    "# trkseg_list = trk.findall(name_space + \"trkseg\")\n",
    "# coor_list = []\n",
    "# ele = 0\n",
    "# for trkseg in trkseg_list:\n",
    "#     for trkpt in trkseg.findall(name_space + \"trkpt\"):\n",
    "#         lat = trkpt.get(\"lat\")\n",
    "#         lon = trkpt.get(\"lon\")\n",
    "#         time = trkpt.find(name_space + \"time\").text\n",
    "#         # print(trkpt.find(name_space + \"ele\"))\n",
    "#         if trkpt.find(name_space + \"ele\") is not None:\n",
    "#             ele = trkpt.find(name_space + \"ele\").text\n",
    "#         coor_list.append((time, lat, lon, ele))\n"
   ],
   "metadata": {
    "collapsed": false,
    "pycharm": {
     "name": "#%%\n"
    }
   }
  }
 ],
 "metadata": {
  "kernelspec": {
   "name": "machine_learning",
   "language": "python",
   "display_name": "python3_ml"
  },
  "language_info": {
   "codemirror_mode": {
    "name": "ipython",
    "version": 2
   },
   "file_extension": ".py",
   "mimetype": "text/x-python",
   "name": "python",
   "nbconvert_exporter": "python",
   "pygments_lexer": "ipython2",
   "version": "2.7.6"
  }
 },
 "nbformat": 4,
 "nbformat_minor": 0
}